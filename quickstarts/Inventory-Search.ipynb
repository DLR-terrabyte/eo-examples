{
 "cells": [
  {
   "cell_type": "markdown",
   "id": "ba6347ab-7b56-487c-9ff3-bca2c883db11",
   "metadata": {},
   "source": [
    "# Compare data availabilities on terrabyte with our data sources\n",
    "In this Jupyter Notebook we demonstrate how to use our monthly generated inventory files to get insights about which data is available on terrabyte. \n",
    "\n",
    "You can query these inventory files by collection, acquisition time, geometry, and inventory status. "
   ]
  },
  {
   "cell_type": "markdown",
   "id": "1ce95042-df6c-4b6d-bbba-85d3e2d67298",
   "metadata": {},
   "source": [
    "## Libraries used\n",
    "For this tutorial you need to install the Python interfaces of `duckdb`. You can use conda, micromamba or pip to install duckdb. "
   ]
  },
  {
   "cell_type": "code",
   "execution_count": null,
   "id": "950af035-a483-434b-b653-daea98ea70af",
   "metadata": {},
   "outputs": [],
   "source": [
    "#!micromamba install python-duckdb -c conda-forge\n",
    "#!pip install duckdb"
   ]
  },
  {
   "cell_type": "markdown",
   "id": "a66f43bf-6c64-4867-9f74-fa7ddd5423bd",
   "metadata": {},
   "source": [
    "## Helper function"
   ]
  },
  {
   "cell_type": "code",
   "execution_count": 1,
   "id": "e88b353d-a31f-4fd7-b1de-9b943e106d5a",
   "metadata": {},
   "outputs": [],
   "source": [
    "import duckdb\n",
    "duckdb.install_extension('spatial')\n",
    "duckdb.load_extension('spatial')\n",
    "\n",
    "def query_geoparquet(collection, wkt_geometry=None, datetime=None, status=None):\n",
    "    # We only query scenes that are not deprecated\n",
    "    where_query = [\n",
    "        \"deprecated = 'false'\"\n",
    "    ]\n",
    "\n",
    "    # Filter by order status\n",
    "    if status:\n",
    "        where_query.append(f\"status = '{status}'\")\n",
    "\n",
    "    # Filter by geometry\n",
    "    if wkt_geometry:\n",
    "        where_query.append(f\"ST_Intersects(ST_GeomFromText(geometry), ST_GeomFromText('{wkt_geometry}'))\")\n",
    "\n",
    "    # Filter by datetime\n",
    "    if datetime:\n",
    "        where_query.append(f\"datetime >= '{datetime[0]}'\")\n",
    "        where_query.append(f\"datetime < '{datetime[1]}'\")\n",
    "\n",
    "    if len(where_query) > 0:\n",
    "        where_query = ' and '.join(where_query)\n",
    "        where_query = 'WHERE ' + where_query\n",
    "    else:\n",
    "        where_query = ''\n",
    "\n",
    "    # SQL statement\n",
    "    query = f\"set TimeZone = 'UTC'; SELECT DATE_TRUNC('year', datetime) as year, count(id) as count FROM '{inventory_geoparquet[collection]}' {where_query} GROUP BY year\"\n",
    "    print(f\"SQL Query: {query}\")\n",
    "\n",
    "    # Define duckdb query\n",
    "    return duckdb.query(query)"
   ]
  },
  {
   "cell_type": "markdown",
   "id": "0601571b-a7f8-4358-a39f-15d39369b1c7",
   "metadata": {},
   "source": [
    "## Inventory\n",
    "The following files are updated monthly after a synchronization with the data provider's (ESA, USGS, NASA) inventory. \n",
    "\n",
    "All of these files have the same columns: \n",
    "- `id` contains the official scene identifier\n",
    "- `datetime` contains the acquisition time\n",
    "- `geometry` contains the bounding box of the scene (as character)\n",
    "- `status` contains the terrabyte status, one of\n",
    "    - `orderable` for scenes that still needs to be ingested into terrabyte\n",
    "    - `ordered` for scenes that are in an ingestion queue of terrabyte\n",
    "    - `removed` for scenes removed from the data provider's inventory\n",
    "    - `succeeded` for scenes available on terrabyte\n",
    "- `deprecated` contains `true` if the scene has been replaced by another scene. "
   ]
  },
  {
   "cell_type": "code",
   "execution_count": 2,
   "id": "2d93ec74-ced1-4097-8f66-0521314e0085",
   "metadata": {},
   "outputs": [],
   "source": [
    "inventory_geoparquet = {\n",
    "    'sentinel-1-grd': '/dss/dsstbyfs01/pn56su/pn56su-dss-0008/inventory/terrabyte/sentinel-1-grd.parquet',\n",
    "    'sentinel-1-slc': '/dss/dsstbyfs01/pn56su/pn56su-dss-0008/inventory/terrabyte/sentinel-1-slc.parquet',\n",
    "    'sentinel-2-c1-l1c': '/dss/dsstbyfs01/pn56su/pn56su-dss-0008/inventory/terrabyte/sentinel-2-c1-l1c.parquet',\n",
    "    'sentinel-2-c1-l2a': '/dss/dsstbyfs01/pn56su/pn56su-dss-0008/inventory/terrabyte/sentinel-2-c1-l2a.parquet',\n",
    "    'sentinel-3-olci-l1-efr': '/dss/dsstbyfs01/pn56su/pn56su-dss-0008/inventory/terrabyte/sentinel-3-olci-l1-efr.parquet',\n",
    "    'sentinel-5p-l1b': '/dss/dsstbyfs01/pn56su/pn56su-dss-0008/inventory/terrabyte/sentinel-5p-l1b.parquet',\n",
    "    'sentinel-5p-l2': '/dss/dsstbyfs01/pn56su/pn56su-dss-0008/inventory/terrabyte/sentinel-5p-l2.parquet',\n",
    "    'landsat-tm-c2-l2': '/dss/dsstbyfs01/pn56su/pn56su-dss-0008/inventory/terrabyte/landsat-tm-c2-l2.parquet',\n",
    "    'landsat-etm-c2-l2': '/dss/dsstbyfs01/pn56su/pn56su-dss-0008/inventory/terrabyte/landsat-etm-c2-l2.parquet',\n",
    "    'landsat-ot-c2-l2': '/dss/dsstbyfs01/pn56su/pn56su-dss-0008/inventory/terrabyte/landsat-ot-c2-l2.parquet',\n",
    "    'modis-mod09ga-061': '/dss/dsstbyfs01/pn56su/pn56su-dss-0008/inventory/terrabyte/modis-mod09ga-061.parquet',\n",
    "    'modis-myd09ga-061': '/dss/dsstbyfs01/pn56su/pn56su-dss-0008/inventory/terrabyte/modis-myd09ga-061.parquet',\n",
    "    'modis-mod09gq-061': '/dss/dsstbyfs01/pn56su/pn56su-dss-0008/inventory/terrabyte/modis-mod09gq-061.parquet',\n",
    "    'modis-myd09gq-061': '/dss/dsstbyfs01/pn56su/pn56su-dss-0008/inventory/terrabyte/modis-myd09gq-061.parquet',\n",
    "    'modis-mod10a1-061': '/dss/dsstbyfs01/pn56su/pn56su-dss-0008/inventory/terrabyte/modis-mod10a1-061.parquet',\n",
    "    'modis-myd10a1-061': '/dss/dsstbyfs01/pn56su/pn56su-dss-0008/inventory/terrabyte/modis-myd10a1-061.parquet',\n",
    "    'modis-mod13a2-061': '/dss/dsstbyfs01/pn56su/pn56su-dss-0008/inventory/terrabyte/modis-mod13a2-061.parquet',\n",
    "    'modis-myd13a2-061': '/dss/dsstbyfs01/pn56su/pn56su-dss-0008/inventory/terrabyte/modis-myd13a2-061.parquet',\n",
    "    'modis-mod13a3-061': '/dss/dsstbyfs01/pn56su/pn56su-dss-0008/inventory/terrabyte/modis-mod13a3-061.parquet',\n",
    "    'modis-myd13a3-061': '/dss/dsstbyfs01/pn56su/pn56su-dss-0008/inventory/terrabyte/modis-myd13a3-061.parquet',\n",
    "    'modis-mod13q1-061': '/dss/dsstbyfs01/pn56su/pn56su-dss-0008/inventory/terrabyte/modis-mod13q1-061.parquet',\n",
    "    'modis-myd13q1-061': '/dss/dsstbyfs01/pn56su/pn56su-dss-0008/inventory/terrabyte/modis-myd13q1-061.parquet',\n",
    "    'viirs-vnp09ga-001': '/dss/dsstbyfs01/pn56su/pn56su-dss-0008/inventory/terrabyte/viirs-vnp09ga-001.parquet',\n",
    "    'viirs-vnp13a1-001': '/dss/dsstbyfs01/pn56su/pn56su-dss-0008/inventory/terrabyte/viirs-vnp13a1-001.parquet',\n",
    "    'viirs-vnp15a2h-001': '/dss/dsstbyfs01/pn56su/pn56su-dss-0008/inventory/terrabyte/viirs-vnp15a2h-001.parquet',\n",
    "}"
   ]
  },
  {
   "cell_type": "markdown",
   "id": "8757df62-4ec9-4170-8f8c-65396893c6b1",
   "metadata": {},
   "source": [
    "## Column schema of Inventory files"
   ]
  },
  {
   "cell_type": "code",
   "execution_count": 3,
   "id": "12ff9bb2-1ee6-4f1d-bdd7-dca472b797d9",
   "metadata": {},
   "outputs": [
    {
     "data": {
      "text/plain": [
       "┌─────────────┬──────────────────────────┬─────────┬─────────┬─────────┬─────────┐\n",
       "│ column_name │       column_type        │  null   │   key   │ default │  extra  │\n",
       "│   varchar   │         varchar          │ varchar │ varchar │ varchar │ varchar │\n",
       "├─────────────┼──────────────────────────┼─────────┼─────────┼─────────┼─────────┤\n",
       "│ id          │ VARCHAR                  │ YES     │ NULL    │ NULL    │ NULL    │\n",
       "│ datetime    │ TIMESTAMP WITH TIME ZONE │ YES     │ NULL    │ NULL    │ NULL    │\n",
       "│ geometry    │ VARCHAR                  │ YES     │ NULL    │ NULL    │ NULL    │\n",
       "│ status      │ VARCHAR                  │ YES     │ NULL    │ NULL    │ NULL    │\n",
       "│ deprecated  │ VARCHAR                  │ YES     │ NULL    │ NULL    │ NULL    │\n",
       "└─────────────┴──────────────────────────┴─────────┴─────────┴─────────┴─────────┘"
      ]
     },
     "execution_count": 3,
     "metadata": {},
     "output_type": "execute_result"
    }
   ],
   "source": [
    "duckdb.query(f\"DESCRIBE SELECT * FROM '{inventory_geoparquet['sentinel-1-grd']}';\")"
   ]
  },
  {
   "cell_type": "markdown",
   "id": "07d05d58-18fe-463f-8fcf-2bbc5ddf02f0",
   "metadata": {},
   "source": [
    "## Define your request parameters\n",
    "You need at least need define the name of the collection (this specifies the parquet file to use). \n",
    "\n",
    "In addition, you can query by geometry (in WKT format) and datetime range. "
   ]
  },
  {
   "cell_type": "code",
   "execution_count": 4,
   "id": "89487f5c-af01-4e40-a425-10da0a81646c",
   "metadata": {},
   "outputs": [],
   "source": [
    "# Area of Interest (aoi_wkt)\n",
    "germany_wkt = \"POLYGON ((6.589640121864647 55.22103843385409, 6.589640121864647 47.35331569919995, 15.156481237091782 47.35331569919995, 15.156481237091782 55.22103843385409, 6.589640121864647 55.22103843385409))\"\n",
    "europe_wkt = \"POLYGON ((48.10789885600357 72.72018652036792, -21.028592953785534 72.72018652036792, -21.028592953785534 32.15348338807499, 48.10789885600357 32.15348338807499, 48.10789885600357 72.72018652036792))\"\n",
    "aoi_wkt = None\n",
    "\n",
    "# Collection (for a list, see dictionary keys of the inventory cell above)\n",
    "collection = 'sentinel-1-grd'\n",
    "\n",
    "# Time range\n",
    "datetime = None\n",
    "#datetime = ['2024-01-01', '2024-07-01']"
   ]
  },
  {
   "cell_type": "markdown",
   "id": "fefe7a40-2f05-4595-8f0c-1a42dc53be74",
   "metadata": {},
   "source": [
    "## Data availability: Data provider\n",
    "Query available data at the data provider regardless of the terrabyte order status"
   ]
  },
  {
   "cell_type": "code",
   "execution_count": 5,
   "id": "e7699e89-69d8-4029-be5c-1ee258cd14a8",
   "metadata": {},
   "outputs": [
    {
     "name": "stdout",
     "output_type": "stream",
     "text": [
      "SQL Query: set TimeZone = 'UTC'; SELECT DATE_TRUNC('year', datetime) as year, count(id) as count FROM '/dss/dsstbyfs01/pn56su/pn56su-dss-0008/inventory/terrabyte/sentinel-1-grd.parquet' WHERE deprecated = 'false' GROUP BY year\n"
     ]
    }
   ],
   "source": [
    "inventory = query_geoparquet(collection, wkt_geometry=aoi_wkt, datetime=datetime)"
   ]
  },
  {
   "cell_type": "markdown",
   "id": "8a88211f-0e73-4767-8f56-66195f097d1a",
   "metadata": {},
   "source": [
    "## Data availability: terrabyte\n",
    "To query available data on terrabyte, we need to filter by order status `succeeded`. "
   ]
  },
  {
   "cell_type": "code",
   "execution_count": 6,
   "id": "c2eb1d8a-4dc3-48a5-9cec-8074d68adae7",
   "metadata": {},
   "outputs": [
    {
     "name": "stdout",
     "output_type": "stream",
     "text": [
      "SQL Query: set TimeZone = 'UTC'; SELECT DATE_TRUNC('year', datetime) as year, count(id) as count FROM '/dss/dsstbyfs01/pn56su/pn56su-dss-0008/inventory/terrabyte/sentinel-1-grd.parquet' WHERE deprecated = 'false' and status = 'succeeded' GROUP BY year\n"
     ]
    }
   ],
   "source": [
    "online = query_geoparquet(collection, wkt_geometry=aoi_wkt, datetime=datetime, status='succeeded')"
   ]
  },
  {
   "cell_type": "markdown",
   "id": "a43a050d-12ce-4307-a5ca-558ca4291f98",
   "metadata": {},
   "source": [
    "## Data comparison of data provider and terrabyte\n",
    "We use the duckdb results before to calculate the missing scenes on terrabyte"
   ]
  },
  {
   "cell_type": "code",
   "execution_count": 7,
   "id": "bc2e7df0-612a-43f4-bdc4-473e6e91c3ba",
   "metadata": {},
   "outputs": [
    {
     "name": "stdout",
     "output_type": "stream",
     "text": [
      "SQL Query: SELECT strftime(inventory.year, '%Y')::int as year, inventory.count as count_inventory, online.count as count_online, (count_inventory - count_online) as missing FROM inventory, online WHERE inventory.year = online.year ORDER BY inventory.year\n"
     ]
    },
    {
     "data": {
      "text/plain": [
       "┌───────┬─────────────────┬──────────────┬─────────┐\n",
       "│ year  │ count_inventory │ count_online │ missing │\n",
       "│ int32 │      int64      │    int64     │  int64  │\n",
       "├───────┼─────────────────┼──────────────┼─────────┤\n",
       "│  2014 │           24506 │        24395 │     111 │\n",
       "│  2015 │          134592 │       134202 │     390 │\n",
       "│  2016 │          197614 │       195794 │    1820 │\n",
       "│  2017 │          365838 │       365627 │     211 │\n",
       "│  2018 │          398323 │       387218 │   11105 │\n",
       "│  2019 │          422219 │       381755 │   40464 │\n",
       "│  2020 │          432719 │       387879 │   44840 │\n",
       "│  2021 │          407121 │       399455 │    7666 │\n",
       "│  2022 │          221861 │       221346 │     515 │\n",
       "│  2023 │          226346 │       198139 │   28207 │\n",
       "│  2024 │          168594 │       105164 │   63430 │\n",
       "├───────┴─────────────────┴──────────────┴─────────┤\n",
       "│ 11 rows                                4 columns │\n",
       "└──────────────────────────────────────────────────┘"
      ]
     },
     "execution_count": 7,
     "metadata": {},
     "output_type": "execute_result"
    }
   ],
   "source": [
    "query = \"SELECT strftime(inventory.year, '%Y')::int as year, inventory.count as count_inventory, online.count as count_online, (count_inventory - count_online) as missing FROM inventory, online WHERE inventory.year = online.year ORDER BY inventory.year\"\n",
    "print(f\"SQL Query: {query}\")\n",
    "\n",
    "report = duckdb.query(query)\n",
    "report"
   ]
  },
  {
   "cell_type": "code",
   "execution_count": 8,
   "id": "690e9433-a9a1-4618-a43c-662c85787c85",
   "metadata": {},
   "outputs": [
    {
     "data": {
      "text/plain": [
       "┌──────────────┬──────────────────────┬───────────────────┐\n",
       "│ sum(missing) │ sum(count_inventory) │ sum(count_online) │\n",
       "│    int128    │        int128        │      int128       │\n",
       "├──────────────┼──────────────────────┼───────────────────┤\n",
       "│       198759 │              2999733 │           2800974 │\n",
       "└──────────────┴──────────────────────┴───────────────────┘"
      ]
     },
     "execution_count": 8,
     "metadata": {},
     "output_type": "execute_result"
    }
   ],
   "source": [
    "duckdb.query(\"SELECT sum(missing), sum(count_inventory), sum(count_online) FROM report\")"
   ]
  }
 ],
 "metadata": {
  "kernelspec": {
   "display_name": "Python 3 (ipykernel)",
   "language": "python",
   "name": "python3"
  },
  "language_info": {
   "codemirror_mode": {
    "name": "ipython",
    "version": 3
   },
   "file_extension": ".py",
   "mimetype": "text/x-python",
   "name": "python",
   "nbconvert_exporter": "python",
   "pygments_lexer": "ipython3",
   "version": "3.12.4"
  }
 },
 "nbformat": 4,
 "nbformat_minor": 5
}
