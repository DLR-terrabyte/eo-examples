{
 "cells": [
  {
   "cell_type": "markdown",
   "id": "9fdea434-7d86-4bec-8660-b8559862231d",
   "metadata": {},
   "source": [
    "# User STAC API"
   ]
  },
  {
   "cell_type": "markdown",
   "id": "5856f36c-c09d-4612-9de6-e1d0f9071e12",
   "metadata": {},
   "source": [
    "## Install terrapi client library\n",
    "The library terrapi-client offers functions to easily work with the private STAC API. It builds on top of the Python library terrapi for authentication with the terrabyte authentication service.\r\n"
   ]
  },
  {
   "cell_type": "code",
   "execution_count": null,
   "id": "4e2da4a7-6388-4a1e-8bed-7273f109b88d",
   "metadata": {
    "scrolled": true
   },
   "outputs": [],
   "source": [
    "!pip install git+https://github.com/DLR-terrabyte/terrapi-client.git@latest-release"
   ]
  },
  {
   "cell_type": "markdown",
   "id": "3e76e7f2-91a4-497f-8ca6-8cfa56cb22ce",
   "metadata": {},
   "source": [
    "## Create new private/shared STAC Collection"
   ]
  },
  {
   "cell_type": "code",
   "execution_count": 4,
   "id": "ecce9c59-0809-48df-b2ff-310399a2809a",
   "metadata": {},
   "outputs": [],
   "source": [
    "import pystac\n",
    "from terrapi.client.stac import open_private_catalog, create_private_collection"
   ]
  },
  {
   "cell_type": "code",
   "execution_count": 6,
   "id": "6fb09ede-7467-48d3-be45-6d106bca7900",
   "metadata": {},
   "outputs": [],
   "source": [
    "# Connect to the terrabyte private STAC API\n",
    "catalog = open_private_catalog()\n",
    "\n",
    "# All private collections are prefixed with your terrabyte/LRZ username\n",
    "# All shared collections are prefixed with the DSS container id (e.g., pn56su-dss-0001)\n",
    "prefix = '<your username>'\n",
    "collection_name = \"testcollection\"\n",
    "\n",
    "collection = pystac.Collection(\n",
    "    f\"{prefix}.{collection_name}\",\n",
    "    \"description\",\n",
    "    pystac.Extent(\n",
    "        pystac.SpatialExtent([[-180, -90.180, 90]]),\n",
    "        pystac.TemporalExtent([[None, None]]),\n",
    "    ),\n",
    ")\n",
    "create_private_collection(catalog, collection)"
   ]
  },
  {
   "cell_type": "markdown",
   "id": "5a8bd7d7-0d1d-49b5-b570-0215bb20c596",
   "metadata": {},
   "source": [
    "## Create new STAC item in private/shared STAC collection"
   ]
  },
  {
   "cell_type": "code",
   "execution_count": 7,
   "id": "e1e7edae-0689-4cff-bf69-e806f8c65a41",
   "metadata": {},
   "outputs": [],
   "source": [
    "from terrapi.client.stac import open_private_catalog, create_private_item\n",
    "from datetime import datetime\n",
    "\n",
    "geom = {\"type\": \"Point\", \"coordinates\": [0, 0]}\n",
    "item = pystac.Item(\"test_item\", geom, None, datetime=datetime.now(), properties={})\n",
    "\n",
    "catalog = open_private_catalog()\n",
    "create_private_item(catalog, item, f\"{prefix}.{collection_name}\")"
   ]
  },
  {
   "cell_type": "markdown",
   "id": "3e572bd5-cba7-44d5-8870-2bf113b565be",
   "metadata": {},
   "source": [
    "## Explore the STAC catalog"
   ]
  },
  {
   "cell_type": "code",
   "execution_count": 9,
   "id": "59c31ed1-2b84-4258-87d0-382943ac41ef",
   "metadata": {},
   "outputs": [
    {
     "name": "stdout",
     "output_type": "stream",
     "text": [
      "1 items found\n"
     ]
    }
   ],
   "source": [
    "from terrapi.client.stac import open_private_catalog\n",
    "\n",
    "# Connect to the terrabyte private STAC API\n",
    "catalog = open_private_catalog()\n",
    "\n",
    "# list the IDs of all STAC catalog collections\n",
    "#for collection in catalog.get_all_collections():\n",
    "#    print(collection.id)\n",
    "\n",
    "# Now query a STAC collection\n",
    "start = datetime.now().replace(hour=0, minute=0, second=0)\n",
    "end = datetime.now().replace(hour=23, minute=59, second=59)\n",
    "\n",
    "query = {\n",
    "    \n",
    "}\n",
    "\n",
    "results = catalog.search(\n",
    "    collections=[f\"{prefix}.{collection_name}\"],\n",
    "    datetime=[start, end],\n",
    "    query=query,\n",
    ")\n",
    "items = results.item_collection_as_dict()\n",
    "print(\"%s items found\" % len(items['features']))"
   ]
  },
  {
   "cell_type": "markdown",
   "id": "90383bf9-8187-4032-8c1a-3ecff9ebce37",
   "metadata": {},
   "source": [
    "## Delete STAC item"
   ]
  },
  {
   "cell_type": "code",
   "execution_count": 12,
   "id": "da7ba309-08ca-4a08-8820-0c6ff96b5874",
   "metadata": {},
   "outputs": [],
   "source": [
    "from terrapi.client.stac import open_private_catalog, delete_private_item\n",
    "catalog = open_private_catalog()\n",
    "delete_private_item(catalog, item, f\"{prefix}.{collection_name}\")"
   ]
  },
  {
   "cell_type": "markdown",
   "id": "e1eea06d-c758-41b8-8772-d5f0d927e884",
   "metadata": {},
   "source": [
    "## Delete STAC collection"
   ]
  },
  {
   "cell_type": "code",
   "execution_count": 14,
   "id": "2420b59b-e21a-4c92-a279-0b2b3afcd8f3",
   "metadata": {},
   "outputs": [],
   "source": [
    "from terrapi.client.stac import open_private_catalog, delete_private_collection\n",
    "catalog = open_private_catalog()\n",
    "delete_private_collection(catalog, collection)"
   ]
  }
 ],
 "metadata": {
  "kernelspec": {
   "display_name": "Python 3 (ipykernel)",
   "language": "python",
   "name": "python3"
  },
  "language_info": {
   "codemirror_mode": {
    "name": "ipython",
    "version": 3
   },
   "file_extension": ".py",
   "mimetype": "text/x-python",
   "name": "python",
   "nbconvert_exporter": "python",
   "pygments_lexer": "ipython3",
   "version": "3.11.9"
  }
 },
 "nbformat": 4,
 "nbformat_minor": 5
}
